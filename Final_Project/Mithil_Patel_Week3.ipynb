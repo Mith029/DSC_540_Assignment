{
 "cells": [
  {
   "cell_type": "code",
   "execution_count": 1,
   "id": "844c730c-dc9f-4d1f-846d-07fef9c6c544",
   "metadata": {},
   "outputs": [],
   "source": [
    "# Mithil Patel\n",
    "# DSC 630 - Week 3 Assignment\n",
    "# 12/18/2022\n",
    "\n",
    "import pandas as pd\n",
    "import seaborn as sns\n",
    "import matplotlib.pyplot as plt"
   ]
  },
  {
   "cell_type": "code",
   "execution_count": 2,
   "id": "98d508dd-662d-4a6e-bf00-5253bc904626",
   "metadata": {},
   "outputs": [
    {
     "data": {
      "text/html": [
       "<div>\n",
       "<style scoped>\n",
       "    .dataframe tbody tr th:only-of-type {\n",
       "        vertical-align: middle;\n",
       "    }\n",
       "\n",
       "    .dataframe tbody tr th {\n",
       "        vertical-align: top;\n",
       "    }\n",
       "\n",
       "    .dataframe thead th {\n",
       "        text-align: right;\n",
       "    }\n",
       "</style>\n",
       "<table border=\"1\" class=\"dataframe\">\n",
       "  <thead>\n",
       "    <tr style=\"text-align: right;\">\n",
       "      <th></th>\n",
       "      <th>month</th>\n",
       "      <th>day</th>\n",
       "      <th>attend</th>\n",
       "      <th>day_of_week</th>\n",
       "      <th>opponent</th>\n",
       "      <th>temp</th>\n",
       "      <th>skies</th>\n",
       "      <th>day_night</th>\n",
       "      <th>cap</th>\n",
       "      <th>shirt</th>\n",
       "      <th>fireworks</th>\n",
       "      <th>bobblehead</th>\n",
       "    </tr>\n",
       "  </thead>\n",
       "  <tbody>\n",
       "    <tr>\n",
       "      <th>0</th>\n",
       "      <td>APR</td>\n",
       "      <td>10</td>\n",
       "      <td>56000</td>\n",
       "      <td>Tuesday</td>\n",
       "      <td>Pirates</td>\n",
       "      <td>67</td>\n",
       "      <td>Clear</td>\n",
       "      <td>Day</td>\n",
       "      <td>NO</td>\n",
       "      <td>NO</td>\n",
       "      <td>NO</td>\n",
       "      <td>NO</td>\n",
       "    </tr>\n",
       "    <tr>\n",
       "      <th>1</th>\n",
       "      <td>APR</td>\n",
       "      <td>11</td>\n",
       "      <td>29729</td>\n",
       "      <td>Wednesday</td>\n",
       "      <td>Pirates</td>\n",
       "      <td>58</td>\n",
       "      <td>Cloudy</td>\n",
       "      <td>Night</td>\n",
       "      <td>NO</td>\n",
       "      <td>NO</td>\n",
       "      <td>NO</td>\n",
       "      <td>NO</td>\n",
       "    </tr>\n",
       "    <tr>\n",
       "      <th>2</th>\n",
       "      <td>APR</td>\n",
       "      <td>12</td>\n",
       "      <td>28328</td>\n",
       "      <td>Thursday</td>\n",
       "      <td>Pirates</td>\n",
       "      <td>57</td>\n",
       "      <td>Cloudy</td>\n",
       "      <td>Night</td>\n",
       "      <td>NO</td>\n",
       "      <td>NO</td>\n",
       "      <td>NO</td>\n",
       "      <td>NO</td>\n",
       "    </tr>\n",
       "    <tr>\n",
       "      <th>3</th>\n",
       "      <td>APR</td>\n",
       "      <td>13</td>\n",
       "      <td>31601</td>\n",
       "      <td>Friday</td>\n",
       "      <td>Padres</td>\n",
       "      <td>54</td>\n",
       "      <td>Cloudy</td>\n",
       "      <td>Night</td>\n",
       "      <td>NO</td>\n",
       "      <td>NO</td>\n",
       "      <td>YES</td>\n",
       "      <td>NO</td>\n",
       "    </tr>\n",
       "    <tr>\n",
       "      <th>4</th>\n",
       "      <td>APR</td>\n",
       "      <td>14</td>\n",
       "      <td>46549</td>\n",
       "      <td>Saturday</td>\n",
       "      <td>Padres</td>\n",
       "      <td>57</td>\n",
       "      <td>Cloudy</td>\n",
       "      <td>Night</td>\n",
       "      <td>NO</td>\n",
       "      <td>NO</td>\n",
       "      <td>NO</td>\n",
       "      <td>NO</td>\n",
       "    </tr>\n",
       "  </tbody>\n",
       "</table>\n",
       "</div>"
      ],
      "text/plain": [
       "  month  day  attend day_of_week opponent  temp   skies day_night cap shirt  \\\n",
       "0   APR   10   56000     Tuesday  Pirates    67  Clear        Day  NO    NO   \n",
       "1   APR   11   29729   Wednesday  Pirates    58  Cloudy     Night  NO    NO   \n",
       "2   APR   12   28328    Thursday  Pirates    57  Cloudy     Night  NO    NO   \n",
       "3   APR   13   31601      Friday   Padres    54  Cloudy     Night  NO    NO   \n",
       "4   APR   14   46549    Saturday   Padres    57  Cloudy     Night  NO    NO   \n",
       "\n",
       "  fireworks bobblehead  \n",
       "0        NO         NO  \n",
       "1        NO         NO  \n",
       "2        NO         NO  \n",
       "3       YES         NO  \n",
       "4        NO         NO  "
      ]
     },
     "execution_count": 2,
     "metadata": {},
     "output_type": "execute_result"
    }
   ],
   "source": [
    "df = pd.read_csv(\"dodgers-2022.csv\")\n",
    "df.head(5)"
   ]
  },
  {
   "cell_type": "code",
   "execution_count": 3,
   "id": "2bf9f188-2884-4136-a932-5d549a2856aa",
   "metadata": {},
   "outputs": [
    {
     "data": {
      "text/plain": [
       "month          0\n",
       "day            0\n",
       "attend         0\n",
       "day_of_week    0\n",
       "opponent       0\n",
       "temp           0\n",
       "skies          0\n",
       "day_night      0\n",
       "cap            0\n",
       "shirt          0\n",
       "fireworks      0\n",
       "bobblehead     0\n",
       "dtype: int64"
      ]
     },
     "execution_count": 3,
     "metadata": {},
     "output_type": "execute_result"
    }
   ],
   "source": [
    "## Finding null values in each column \n",
    "df.isna().sum()"
   ]
  },
  {
   "cell_type": "code",
   "execution_count": 4,
   "id": "3efa3a15-9706-460f-af88-bae571ed9d29",
   "metadata": {},
   "outputs": [
    {
     "data": {
      "text/plain": [
       "<seaborn.axisgrid.FacetGrid at 0x7fa25ebfa0a0>"
      ]
     },
     "execution_count": 4,
     "metadata": {},
     "output_type": "execute_result"
    },
    {
     "data": {
      "image/png": "[encoded data removed]",
      "text/plain": [
       "<Figure size 414.5x360 with 1 Axes>"
      ]
     },
     "metadata": {
      "needs_background": "light"
     },
     "output_type": "display_data"
    }
   ],
   "source": [
    "# # Investigating a correlation between the explanatory variable and response variable\n",
    "# plt.figure(figsize=(12,6))\n",
    "# sns.heatmap(df.corr(),annot = True)\n",
    "sns.catplot(data=df, x=\"attend\", y=\"day_of_week\", hue= \"cap\")"
   ]
  },
  {
   "cell_type": "code",
   "execution_count": 5,
   "id": "275896e3-6e33-4087-a9fd-2ebda8f1b82f",
   "metadata": {},
   "outputs": [
    {
     "data": {
      "text/plain": [
       "<AxesSubplot:xlabel='bobblehead'>"
      ]
     },
     "execution_count": 5,
     "metadata": {},
     "output_type": "execute_result"
    },
    {
     "data": {
      "image/png": "[encoded data removed]",
      "text/plain": [
       "<Figure size 432x288 with 1 Axes>"
      ]
     },
     "metadata": {
      "needs_background": "light"
     },
     "output_type": "display_data"
    }
   ],
   "source": [
    "df.groupby([\"bobblehead\"]).mean().plot(kind=\"bar\")"
   ]
  },
  {
   "cell_type": "code",
   "execution_count": 6,
   "id": "a3a7494e-e5db-468c-96fa-edc99a3f4b31",
   "metadata": {},
   "outputs": [
    {
     "data": {
      "text/html": [
       "<div>\n",
       "<style scoped>\n",
       "    .dataframe tbody tr th:only-of-type {\n",
       "        vertical-align: middle;\n",
       "    }\n",
       "\n",
       "    .dataframe tbody tr th {\n",
       "        vertical-align: top;\n",
       "    }\n",
       "\n",
       "    .dataframe thead th {\n",
       "        text-align: right;\n",
       "    }\n",
       "</style>\n",
       "<table border=\"1\" class=\"dataframe\">\n",
       "  <thead>\n",
       "    <tr style=\"text-align: right;\">\n",
       "      <th></th>\n",
       "      <th>attend</th>\n",
       "      <th>temp</th>\n",
       "      <th>month_APR</th>\n",
       "      <th>month_AUG</th>\n",
       "      <th>month_JUL</th>\n",
       "      <th>month_JUN</th>\n",
       "      <th>month_MAY</th>\n",
       "      <th>month_OCT</th>\n",
       "      <th>month_SEP</th>\n",
       "      <th>day_of_week_Friday</th>\n",
       "      <th>...</th>\n",
       "      <th>opponent_Snakes</th>\n",
       "      <th>opponent_White Sox</th>\n",
       "      <th>skies_Clear</th>\n",
       "      <th>skies_Cloudy</th>\n",
       "      <th>day_night_Day</th>\n",
       "      <th>day_night_Night</th>\n",
       "      <th>cap_YES</th>\n",
       "      <th>shirt_YES</th>\n",
       "      <th>fireworks_YES</th>\n",
       "      <th>bobblehead_YES</th>\n",
       "    </tr>\n",
       "  </thead>\n",
       "  <tbody>\n",
       "    <tr>\n",
       "      <th>0</th>\n",
       "      <td>56000</td>\n",
       "      <td>67</td>\n",
       "      <td>1</td>\n",
       "      <td>0</td>\n",
       "      <td>0</td>\n",
       "      <td>0</td>\n",
       "      <td>0</td>\n",
       "      <td>0</td>\n",
       "      <td>0</td>\n",
       "      <td>0</td>\n",
       "      <td>...</td>\n",
       "      <td>0</td>\n",
       "      <td>0</td>\n",
       "      <td>1</td>\n",
       "      <td>0</td>\n",
       "      <td>1</td>\n",
       "      <td>0</td>\n",
       "      <td>0</td>\n",
       "      <td>0</td>\n",
       "      <td>0</td>\n",
       "      <td>0</td>\n",
       "    </tr>\n",
       "    <tr>\n",
       "      <th>1</th>\n",
       "      <td>29729</td>\n",
       "      <td>58</td>\n",
       "      <td>1</td>\n",
       "      <td>0</td>\n",
       "      <td>0</td>\n",
       "      <td>0</td>\n",
       "      <td>0</td>\n",
       "      <td>0</td>\n",
       "      <td>0</td>\n",
       "      <td>0</td>\n",
       "      <td>...</td>\n",
       "      <td>0</td>\n",
       "      <td>0</td>\n",
       "      <td>0</td>\n",
       "      <td>1</td>\n",
       "      <td>0</td>\n",
       "      <td>1</td>\n",
       "      <td>0</td>\n",
       "      <td>0</td>\n",
       "      <td>0</td>\n",
       "      <td>0</td>\n",
       "    </tr>\n",
       "    <tr>\n",
       "      <th>2</th>\n",
       "      <td>28328</td>\n",
       "      <td>57</td>\n",
       "      <td>1</td>\n",
       "      <td>0</td>\n",
       "      <td>0</td>\n",
       "      <td>0</td>\n",
       "      <td>0</td>\n",
       "      <td>0</td>\n",
       "      <td>0</td>\n",
       "      <td>0</td>\n",
       "      <td>...</td>\n",
       "      <td>0</td>\n",
       "      <td>0</td>\n",
       "      <td>0</td>\n",
       "      <td>1</td>\n",
       "      <td>0</td>\n",
       "      <td>1</td>\n",
       "      <td>0</td>\n",
       "      <td>0</td>\n",
       "      <td>0</td>\n",
       "      <td>0</td>\n",
       "    </tr>\n",
       "    <tr>\n",
       "      <th>3</th>\n",
       "      <td>31601</td>\n",
       "      <td>54</td>\n",
       "      <td>1</td>\n",
       "      <td>0</td>\n",
       "      <td>0</td>\n",
       "      <td>0</td>\n",
       "      <td>0</td>\n",
       "      <td>0</td>\n",
       "      <td>0</td>\n",
       "      <td>1</td>\n",
       "      <td>...</td>\n",
       "      <td>0</td>\n",
       "      <td>0</td>\n",
       "      <td>0</td>\n",
       "      <td>1</td>\n",
       "      <td>0</td>\n",
       "      <td>1</td>\n",
       "      <td>0</td>\n",
       "      <td>0</td>\n",
       "      <td>1</td>\n",
       "      <td>0</td>\n",
       "    </tr>\n",
       "    <tr>\n",
       "      <th>4</th>\n",
       "      <td>46549</td>\n",
       "      <td>57</td>\n",
       "      <td>1</td>\n",
       "      <td>0</td>\n",
       "      <td>0</td>\n",
       "      <td>0</td>\n",
       "      <td>0</td>\n",
       "      <td>0</td>\n",
       "      <td>0</td>\n",
       "      <td>0</td>\n",
       "      <td>...</td>\n",
       "      <td>0</td>\n",
       "      <td>0</td>\n",
       "      <td>0</td>\n",
       "      <td>1</td>\n",
       "      <td>0</td>\n",
       "      <td>1</td>\n",
       "      <td>0</td>\n",
       "      <td>0</td>\n",
       "      <td>0</td>\n",
       "      <td>0</td>\n",
       "    </tr>\n",
       "  </tbody>\n",
       "</table>\n",
       "<p>5 rows × 41 columns</p>\n",
       "</div>"
      ],
      "text/plain": [
       "   attend  temp  month_APR  month_AUG  month_JUL  month_JUN  month_MAY  \\\n",
       "0   56000    67          1          0          0          0          0   \n",
       "1   29729    58          1          0          0          0          0   \n",
       "2   28328    57          1          0          0          0          0   \n",
       "3   31601    54          1          0          0          0          0   \n",
       "4   46549    57          1          0          0          0          0   \n",
       "\n",
       "   month_OCT  month_SEP  day_of_week_Friday  ...  opponent_Snakes  \\\n",
       "0          0          0                   0  ...                0   \n",
       "1          0          0                   0  ...                0   \n",
       "2          0          0                   0  ...                0   \n",
       "3          0          0                   1  ...                0   \n",
       "4          0          0                   0  ...                0   \n",
       "\n",
       "   opponent_White Sox  skies_Clear   skies_Cloudy  day_night_Day  \\\n",
       "0                   0             1             0              1   \n",
       "1                   0             0             1              0   \n",
       "2                   0             0             1              0   \n",
       "3                   0             0             1              0   \n",
       "4                   0             0             1              0   \n",
       "\n",
       "   day_night_Night  cap_YES  shirt_YES  fireworks_YES  bobblehead_YES  \n",
       "0                0        0          0              0               0  \n",
       "1                1        0          0              0               0  \n",
       "2                1        0          0              0               0  \n",
       "3                1        0          0              1               0  \n",
       "4                1        0          0              0               0  \n",
       "\n",
       "[5 rows x 41 columns]"
      ]
     },
     "execution_count": 6,
     "metadata": {},
     "output_type": "execute_result"
    }
   ],
   "source": [
    "dummy_df = pd.get_dummies(df)\n",
    "dummy_df = dummy_df.drop(['day','cap_NO','shirt_NO','fireworks_NO','bobblehead_NO'], axis = 1)\n",
    "dummy_df.head()"
   ]
  },
  {
   "cell_type": "code",
   "execution_count": null,
   "id": "17df7dd8-67f3-4db8-8c7b-8add26b63d68",
   "metadata": {},
   "outputs": [],
   "source": []
  },
  {
   "cell_type": "code",
   "execution_count": 7,
   "id": "2d681b4c-3d35-4847-a8fb-74d30fcc87f1",
   "metadata": {},
   "outputs": [],
   "source": [
    "# Splitting our dataframe into exploratory and dependent variable.\n",
    "from sklearn.model_selection import train_test_split\n",
    "\n",
    "x = dummy_df.iloc[:,1:]\n",
    "y = dummy_df.iloc[:,0]\n",
    "\n",
    "x_train, x_test, y_train, y_test = train_test_split(x,y, test_size=0.20, random_state=1)"
   ]
  },
  {
   "cell_type": "code",
   "execution_count": 8,
   "id": "d984daeb-5eee-4e8a-9673-5fd1190ac0eb",
   "metadata": {},
   "outputs": [
    {
     "data": {
      "text/plain": [
       "bobblehead_YES           0.794930\n",
       "cap_YES                  0.476112\n",
       "day_night_Day            0.877940\n",
       "day_night_Night          1.000000\n",
       "day_of_week_Friday       0.839477\n",
       "day_of_week_Monday       0.723567\n",
       "day_of_week_Saturday     0.655922\n",
       "day_of_week_Sunday       0.755310\n",
       "day_of_week_Thursday     0.548352\n",
       "day_of_week_Tuesday      0.723567\n",
       "day_of_week_Wednesday    0.813447\n",
       "fireworks_YES            0.863309\n",
       "month_APR                0.861235\n",
       "month_AUG                0.861235\n",
       "month_JUL                0.690349\n",
       "month_JUN                0.584618\n",
       "month_MAY                0.921165\n",
       "month_OCT                0.512084\n",
       "month_SEP                0.723567\n",
       "opponent_Angels          0.476112\n",
       "opponent_Astros          0.512084\n",
       "opponent_Braves          0.512084\n",
       "opponent_Brewers         0.512084\n",
       "opponent_Cardinals       0.620578\n",
       "opponent_Cubs            0.476112\n",
       "opponent_Giants          0.813447\n",
       "opponent_Marlins         0.440714\n",
       "opponent_Mets            0.440714\n",
       "opponent_Nationals       0.476112\n",
       "opponent_Padres          0.690349\n",
       "opponent_Phillies        0.440714\n",
       "opponent_Pirates         0.855614\n",
       "opponent_Reds            0.476112\n",
       "opponent_Rockies         0.690349\n",
       "opponent_Snakes          0.723567\n",
       "opponent_White Sox       0.476112\n",
       "shirt_YES                0.476112\n",
       "skies_Clear              1.000000\n",
       "skies_Cloudy             0.904152\n",
       "temp                     0.301004\n",
       "dtype: float64"
      ]
     },
     "execution_count": 8,
     "metadata": {},
     "output_type": "execute_result"
    }
   ],
   "source": [
    "from sklearn.feature_selection import chi2\n",
    "chi_2 = chi2(x_train,y_train)\n",
    "p_values = pd.Series(chi_2[1])\n",
    "p_values.index = x_train.columns\n",
    "p_values.sort_index(ascending=True)"
   ]
  },
  {
   "cell_type": "code",
   "execution_count": 9,
   "id": "a17c78f4-aa0b-47aa-a86b-809ad0cdba09",
   "metadata": {},
   "outputs": [
    {
     "data": {
      "text/plain": [
       "pandas.core.series.Series"
      ]
     },
     "execution_count": 9,
     "metadata": {},
     "output_type": "execute_result"
    }
   ],
   "source": [
    "type(p_values.sort_index(ascending=True))"
   ]
  },
  {
   "cell_type": "code",
   "execution_count": 10,
   "id": "25c352de-2d4d-4388-81e3-142732bfcffc",
   "metadata": {},
   "outputs": [
    {
     "name": "stdout",
     "output_type": "stream",
     "text": [
      "Accuracy: 92.53\n"
     ]
    }
   ],
   "source": [
    "# From Chi2 above, the feature are all random and appear to have no dependence\n",
    "# with the attendence as the pvalue is below 5 percent\n",
    "\n",
    "from sklearn.ensemble import RandomForestRegressor\n",
    "from sklearn.feature_selection import SelectFromModel\n",
    "import numpy as np\n",
    "\n",
    "random_forest = RandomForestRegressor(n_estimators = 1000, max_depth = 5, random_state = 42)\n",
    "random_forest.fit(x_train,y_train)\n",
    "\n",
    "# Use the forest's predict method on the test data\n",
    "predictions = random_forest.predict(x_test)\n",
    "# Calculate the absolute errors\n",
    "errors = abs(predictions - y_test)\n",
    "\n",
    "# Calculate mean absolute percentage error (MAPE)\n",
    "mape = 100 * (errors / y_test)\n",
    "# Calculate and display accuracy\n",
    "accuracy = 100 - np.mean(mape)\n",
    "print('Accuracy:', round(accuracy, 2))"
   ]
  },
  {
   "cell_type": "code",
   "execution_count": 11,
   "id": "354b6b89-c6d1-49dc-89c7-e9c65868fd68",
   "metadata": {},
   "outputs": [
    {
     "name": "stdout",
     "output_type": "stream",
     "text": [
      "Variable: bobblehead_YES       Importance: 0.33\n",
      "Variable: temp                 Importance: 0.13\n",
      "Variable: month_JUN            Importance: 0.08\n",
      "Variable: opponent_Brewers     Importance: 0.05\n",
      "Variable: day_of_week_Monday   Importance: 0.04\n",
      "Variable: opponent_Pirates     Importance: 0.04\n",
      "Variable: month_MAY            Importance: 0.03\n",
      "Variable: day_of_week_Tuesday  Importance: 0.03\n",
      "Variable: opponent_Snakes      Importance: 0.03\n",
      "Variable: day_of_week_Wednesday Importance: 0.02\n",
      "Variable: opponent_Braves      Importance: 0.02\n",
      "Variable: opponent_Padres      Importance: 0.02\n",
      "Variable: opponent_Reds        Importance: 0.02\n",
      "Variable: shirt_YES            Importance: 0.02\n",
      "Variable: month_APR            Importance: 0.01\n",
      "Variable: day_of_week_Saturday Importance: 0.01\n",
      "Variable: day_of_week_Sunday   Importance: 0.01\n",
      "Variable: day_of_week_Thursday Importance: 0.01\n",
      "Variable: opponent_Cardinals   Importance: 0.01\n",
      "Variable: opponent_Giants      Importance: 0.01\n",
      "Variable: opponent_Nationals   Importance: 0.01\n",
      "Variable: skies_Clear          Importance: 0.01\n",
      "Variable: skies_Cloudy         Importance: 0.01\n",
      "Variable: day_night_Day        Importance: 0.01\n",
      "Variable: day_night_Night      Importance: 0.01\n",
      "Variable: fireworks_YES        Importance: 0.01\n",
      "Variable: month_AUG            Importance: 0.0\n",
      "Variable: month_JUL            Importance: 0.0\n",
      "Variable: month_OCT            Importance: 0.0\n",
      "Variable: month_SEP            Importance: 0.0\n",
      "Variable: day_of_week_Friday   Importance: 0.0\n",
      "Variable: opponent_Angels      Importance: 0.0\n",
      "Variable: opponent_Astros      Importance: 0.0\n",
      "Variable: opponent_Cubs        Importance: 0.0\n",
      "Variable: opponent_Marlins     Importance: 0.0\n",
      "Variable: opponent_Mets        Importance: 0.0\n",
      "Variable: opponent_Phillies    Importance: 0.0\n",
      "Variable: opponent_Rockies     Importance: 0.0\n",
      "Variable: opponent_White Sox   Importance: 0.0\n",
      "Variable: cap_YES              Importance: 0.0\n"
     ]
    },
    {
     "data": {
      "text/plain": [
       "[None,\n",
       " None,\n",
       " None,\n",
       " None,\n",
       " None,\n",
       " None,\n",
       " None,\n",
       " None,\n",
       " None,\n",
       " None,\n",
       " None,\n",
       " None,\n",
       " None,\n",
       " None,\n",
       " None,\n",
       " None,\n",
       " None,\n",
       " None,\n",
       " None,\n",
       " None,\n",
       " None,\n",
       " None,\n",
       " None,\n",
       " None,\n",
       " None,\n",
       " None,\n",
       " None,\n",
       " None,\n",
       " None,\n",
       " None,\n",
       " None,\n",
       " None,\n",
       " None,\n",
       " None,\n",
       " None,\n",
       " None,\n",
       " None,\n",
       " None,\n",
       " None,\n",
       " None]"
      ]
     },
     "execution_count": 11,
     "metadata": {},
     "output_type": "execute_result"
    }
   ],
   "source": [
    "# Get numerical feature importances\n",
    "feature_list = list(x_train.columns)\n",
    "importances = list(random_forest.feature_importances_)\n",
    "# List of tuples with variable and importance\n",
    "feature_importances = [(feature, round(importance, 2)) for feature, importance in zip(feature_list, importances)]\n",
    "# Sort the feature importances by most important first\n",
    "feature_importances = sorted(feature_importances, key = lambda x: x[1], reverse = True)\n",
    "# Print out the feature and importances \n",
    "[print('Variable: {:20} Importance: {}'.format(*pair)) for pair in feature_importances]"
   ]
  },
  {
   "cell_type": "code",
   "execution_count": 12,
   "id": "7b8bda1a-5085-4ee1-a49a-b4725a709e75",
   "metadata": {},
   "outputs": [
    {
     "data": {
      "image/png": "[encoded data removed]",
      "text/plain": [
       "<Figure size 864x720 with 1 Axes>"
      ]
     },
     "metadata": {
      "needs_background": "light"
     },
     "output_type": "display_data"
    }
   ],
   "source": [
    "import seaborn as sns\n",
    "import matplotlib.pyplot as plt\n",
    "\n",
    "sns.barplot(data=df, x=df.opponent, y=df.attend,hue=df.bobblehead).set_title('Attendence by opponents')\n",
    "plt.xticks(rotation=70)\n",
    "plt.tight_layout()\n",
    "plt.gcf().set_size_inches(12,10)"
   ]
  },
  {
   "cell_type": "code",
   "execution_count": 13,
   "id": "194acba6-3c40-4225-bdcc-21ea59cd7974",
   "metadata": {},
   "outputs": [
    {
     "data": {
      "image/png": "[encoded data removed]",
      "text/plain": [
       "<Figure size 864x720 with 1 Axes>"
      ]
     },
     "metadata": {
      "needs_background": "light"
     },
     "output_type": "display_data"
    }
   ],
   "source": [
    "sns.barplot(data=df, x=df.opponent, y=df.attend).set_title('Attendence by opponents')\n",
    "plt.xticks(rotation=70)\n",
    "plt.tight_layout()\n",
    "plt.gcf().set_size_inches(12,10)"
   ]
  },
  {
   "cell_type": "code",
   "execution_count": 14,
   "id": "7b6657db-3098-42db-a8b6-6cec454b49cd",
   "metadata": {},
   "outputs": [
    {
     "data": {
      "image/png": "[encoded data removed]",
      "text/plain": [
       "<Figure size 576x684 with 2 Axes>"
      ]
     },
     "metadata": {
      "needs_background": "light"
     },
     "output_type": "display_data"
    }
   ],
   "source": [
    "# Creating a SHAP dependence plots for our logistic regression model\n",
    "import shap\n",
    "explainer = shap.TreeExplainer(random_forest)\n",
    "shap_values = explainer.shap_values(x_test)\n",
    "shap.summary_plot(shap_values, x_test)"
   ]
  },
  {
   "cell_type": "markdown",
   "id": "1d1386fc-d82c-4307-8361-149821123a6c",
   "metadata": {},
   "source": [
    "Dodgers-Gaints rivelry: not the most attendance (average at best)\n",
    "Not attendence when bobbleheads are given out (Assumptions that bobblehead column means giving out bobblehead by dodgers)"
   ]
  },
  {
   "cell_type": "code",
   "execution_count": 15,
   "id": "1257e481-b8d2-4712-8095-6ff219fb055d",
   "metadata": {},
   "outputs": [
    {
     "data": {
      "text/plain": [
       "array([67.28804464, 50.09090909, 50.09090909, 56.        , 59.        ,\n",
       "       47.        , 61.        , 55.        , 51.        , 55.        ,\n",
       "       57.        , 54.        , 60.        , 55.        , 52.        ,\n",
       "       62.        , 61.        , 61.        , 61.        , 58.        ,\n",
       "       62.        , 52.        , 63.        , 63.        , 62.        ,\n",
       "       56.        , 63.        , 50.33333333, 62.        , 56.        ,\n",
       "       55.        , 62.        , 16.        , 48.        , 49.33333333,\n",
       "       11.38461538, 62.        , 62.        , 50.        , 52.66666667])"
      ]
     },
     "execution_count": 15,
     "metadata": {},
     "output_type": "execute_result"
    }
   ],
   "source": [
    "from sklearn.feature_selection import SelectKBest\n",
    "selector = SelectKBest(chi2, k='all').fit(x_train,y_train)\n",
    "x_new = selector.transform(x_train) # not needed to get the score\n",
    "scores = selector.scores_\n",
    "scores"
   ]
  },
  {
   "cell_type": "code",
   "execution_count": null,
   "id": "24584375-51c4-4d1e-9a6a-c16336bd5f09",
   "metadata": {},
   "outputs": [],
   "source": []
  }
 ],
 "metadata": {
  "kernelspec": {
   "display_name": "Python 3 (ipykernel)",
   "language": "python",
   "name": "python3"
  },
  "language_info": {
   "codemirror_mode": {
    "name": "ipython",
    "version": 3
   },
   "file_extension": ".py",
   "mimetype": "text/x-python",
   "name": "python",
   "nbconvert_exporter": "python",
   "pygments_lexer": "ipython3",
   "version": "3.9.12"
  }
 },
 "nbformat": 4,
 "nbformat_minor": 5
}
